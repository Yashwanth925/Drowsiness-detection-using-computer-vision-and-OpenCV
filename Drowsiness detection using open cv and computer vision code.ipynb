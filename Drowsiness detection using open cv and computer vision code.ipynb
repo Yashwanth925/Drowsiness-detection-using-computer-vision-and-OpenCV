{
 "cells": [
  {
   "cell_type": "code",
   "execution_count": 1,
   "id": "6b144209",
   "metadata": {},
   "outputs": [],
   "source": [
    "#imorting open cv for image processing and computer vision tasks\n",
    "import cv2\n",
    "#importing numpy for numerical operations\n",
    "import numpy as np\n",
    "#importing dlib for facial landmarks\n",
    "import dlib\n",
    "#importing face utils for processing functions\n",
    "from imutils import face_utils\n",
    "#importing pyglet for buzzer operations\n",
    "import pyglet"
   ]
  },
  {
   "cell_type": "code",
   "execution_count": 2,
   "id": "ce0b5bb9",
   "metadata": {},
   "outputs": [],
   "source": [
    "cap = cv2.VideoCapture(0)\n",
    "\n",
    "detector = dlib.get_frontal_face_detector()\n",
    "predictor = dlib.shape_predictor(\"shape_predictor_68_face_landmarks.dat\")\n",
    "\n",
    "sleep = 0\n",
    "drowsy = 0\n",
    "active = 0\n",
    "status = \"\"\n",
    "color = (0, 0, 0)"
   ]
  },
  {
   "cell_type": "markdown",
   "id": "da1167b4",
   "metadata": {},
   "source": [
    "**Defining compute for distance between landmarks**"
   ]
  },
  {
   "cell_type": "code",
   "execution_count": 3,
   "id": "e5e496bf",
   "metadata": {},
   "outputs": [],
   "source": [
    "def compute(ptA, ptB):\n",
    "    dist = np.linalg.norm(ptA - ptB)\n",
    "    return dist"
   ]
  },
  {
   "cell_type": "markdown",
   "id": "3b38c639",
   "metadata": {},
   "source": [
    "**Defining for buzzer sounds**"
   ]
  },
  {
   "cell_type": "code",
   "execution_count": 4,
   "id": "1e907144",
   "metadata": {},
   "outputs": [],
   "source": [
    "def sound_alarm(path):\n",
    "    music = pyglet.media.load(\"alert.mp3\")\n",
    "    music.play()"
   ]
  },
  {
   "cell_type": "markdown",
   "id": "e19125c4",
   "metadata": {},
   "source": [
    "**Defing blinked for different phases.**"
   ]
  },
  {
   "cell_type": "code",
   "execution_count": 5,
   "id": "3998b2fa",
   "metadata": {},
   "outputs": [],
   "source": [
    "def blinked(a, b, c, d, e, f):\n",
    "    up = compute(b, d) + compute(c, e)\n",
    "    down = compute(a, f)\n",
    "    ratio = up/(2.0*down)\n",
    "\n",
    "    if (ratio > 0.25):\n",
    "        return 2\n",
    "    elif (ratio > 0.21 and ratio <= 0.25):\n",
    "        return 1\n",
    "    else:\n",
    "        return 0\n",
    "\n",
    "\n",
    "while True:\n",
    "    _, frame = cap.read()\n",
    "    gray = cv2.cvtColor(frame, cv2.COLOR_BGR2GRAY)\n",
    "\n",
    "    faces = detector(gray)\n",
    "    face_frame = frame.copy()\n",
    " \n",
    "    for face in faces:\n",
    "        x1 = face.left()\n",
    "        y1 = face.top()\n",
    "        x2 = face.right()\n",
    "        y2 = face.bottom()\n",
    "\n",
    "        cv2.rectangle(face_frame, (x1, y1), (x2, y2), (0, 255, 0), 2)\n",
    "\n",
    "        landmarks = predictor(gray, face)\n",
    "        landmarks = face_utils.shape_to_np(landmarks)\n",
    "\n",
    "        left_blink = blinked(landmarks[36], landmarks[37],\n",
    "                             landmarks[38], landmarks[41], landmarks[40], landmarks[39])\n",
    "        right_blink = blinked(landmarks[42], landmarks[43],\n",
    "                              landmarks[44], landmarks[47], landmarks[46], landmarks[45])\n",
    "\n",
    "\n",
    "        if (left_blink == 0 or right_blink == 0):\n",
    "            sleep += 1\n",
    "            drowsy = 0\n",
    "            active = 0\n",
    "            if (sleep > 4):\n",
    "                status = \"SLEEPING !!!\"\n",
    "                color = (255, 0, 0)\n",
    "            if (sleep > 45):\n",
    "                status = \"SLEEPING WARNING !!!\"\n",
    "                color = (255, 0, 0)\n",
    "                sound_alarm(\"alert.mp3\")\n",
    "            \n",
    "#defining the different phases and buzzer starts when the person sleeps for more thank 5sec.\n",
    "        elif (left_blink == 1 or right_blink == 1):\n",
    "            sleep = 0\n",
    "            active = 0\n",
    "            drowsy += 1\n",
    "            if (drowsy > 4):\n",
    "                status = \"Drowsy !\"\n",
    "                color = (0, 0, 255)\n",
    "\n",
    "        else:\n",
    "            drowsy = 0\n",
    "            sleep = 0\n",
    "            active += 1\n",
    "            if (active > 4):\n",
    "                status = \"Awake !\"\n",
    "                color = (0, 255, 0)\n",
    "\n",
    "        cv2.putText(frame, status, (100, 100),\n",
    "                    cv2.FONT_HERSHEY_DUPLEX, 1.2, color, 3)\n",
    "\n",
    "        for n in range(0, 68):\n",
    "            (x, y) = landmarks[n]\n",
    "            cv2.circle(face_frame, (x, y), 1, (255, 255, 255), -1)\n",
    "\n",
    "    cv2.imshow(\"Drowsy Detector\", frame)\n",
    "    cv2.imshow(\"Result of detector\", face_frame)\n",
    "    key = cv2.waitKey(1)\n",
    "    if key == 27:\n",
    "        break\n"
   ]
  },
  {
   "cell_type": "markdown",
   "id": "593f4992",
   "metadata": {},
   "source": [
    "**Defining the different phases and buzzer starts when the person sleeps for more thank 5sec**"
   ]
  },
  {
   "cell_type": "code",
   "execution_count": null,
   "id": "e35457c7",
   "metadata": {},
   "outputs": [],
   "source": []
  },
  {
   "cell_type": "code",
   "execution_count": null,
   "id": "4da4eacc",
   "metadata": {},
   "outputs": [],
   "source": []
  }
 ],
 "metadata": {
  "kernelspec": {
   "display_name": "Python 3 (ipykernel)",
   "language": "python",
   "name": "python3"
  },
  "language_info": {
   "codemirror_mode": {
    "name": "ipython",
    "version": 3
   },
   "file_extension": ".py",
   "mimetype": "text/x-python",
   "name": "python",
   "nbconvert_exporter": "python",
   "pygments_lexer": "ipython3",
   "version": "3.9.12"
  }
 },
 "nbformat": 4,
 "nbformat_minor": 5
}
